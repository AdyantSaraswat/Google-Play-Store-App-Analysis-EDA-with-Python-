{
 "cells": [
  {
   "cell_type": "code",
   "execution_count": 2,
   "id": "1e9f43c1",
   "metadata": {},
   "outputs": [],
   "source": [
    "import pandas as pd  \n",
    "import numpy as np  \n",
    "import matplotlib.pyplot as plt\n",
    "import seaborn as sns"
   ]
  },
  {
   "cell_type": "code",
   "execution_count": 3,
   "id": "4c47b557",
   "metadata": {},
   "outputs": [
    {
     "data": {
      "text/html": [
       "<div>\n",
       "<style scoped>\n",
       "    .dataframe tbody tr th:only-of-type {\n",
       "        vertical-align: middle;\n",
       "    }\n",
       "\n",
       "    .dataframe tbody tr th {\n",
       "        vertical-align: top;\n",
       "    }\n",
       "\n",
       "    .dataframe thead th {\n",
       "        text-align: right;\n",
       "    }\n",
       "</style>\n",
       "<table border=\"1\" class=\"dataframe\">\n",
       "  <thead>\n",
       "    <tr style=\"text-align: right;\">\n",
       "      <th></th>\n",
       "      <th>App</th>\n",
       "      <th>Category</th>\n",
       "      <th>Rating</th>\n",
       "      <th>Reviews</th>\n",
       "      <th>Size</th>\n",
       "      <th>Installs</th>\n",
       "      <th>Type</th>\n",
       "      <th>Price</th>\n",
       "      <th>Content Rating</th>\n",
       "      <th>Genres</th>\n",
       "      <th>Last Updated</th>\n",
       "    </tr>\n",
       "  </thead>\n",
       "  <tbody>\n",
       "    <tr>\n",
       "      <th>0</th>\n",
       "      <td>Photo Editor &amp; Candy Camera &amp; Grid &amp; ScrapBook</td>\n",
       "      <td>ART_AND_DESIGN</td>\n",
       "      <td>4.1</td>\n",
       "      <td>159</td>\n",
       "      <td>19M</td>\n",
       "      <td>10,000+</td>\n",
       "      <td>Free</td>\n",
       "      <td>0</td>\n",
       "      <td>Everyone</td>\n",
       "      <td>Art &amp; Design</td>\n",
       "      <td>January 7, 2018</td>\n",
       "    </tr>\n",
       "    <tr>\n",
       "      <th>1</th>\n",
       "      <td>Coloring book moana</td>\n",
       "      <td>ART_AND_DESIGN</td>\n",
       "      <td>3.9</td>\n",
       "      <td>967</td>\n",
       "      <td>14M</td>\n",
       "      <td>500,000+</td>\n",
       "      <td>Free</td>\n",
       "      <td>0</td>\n",
       "      <td>Everyone</td>\n",
       "      <td>Art &amp; Design;Pretend Play</td>\n",
       "      <td>January 15, 2018</td>\n",
       "    </tr>\n",
       "    <tr>\n",
       "      <th>2</th>\n",
       "      <td>U Launcher Lite – FREE Live Cool Themes, Hide ...</td>\n",
       "      <td>ART_AND_DESIGN</td>\n",
       "      <td>4.7</td>\n",
       "      <td>87510</td>\n",
       "      <td>8.7M</td>\n",
       "      <td>5,000,000+</td>\n",
       "      <td>Free</td>\n",
       "      <td>0</td>\n",
       "      <td>Everyone</td>\n",
       "      <td>Art &amp; Design</td>\n",
       "      <td>August 1, 2018</td>\n",
       "    </tr>\n",
       "    <tr>\n",
       "      <th>3</th>\n",
       "      <td>Sketch - Draw &amp; Paint</td>\n",
       "      <td>ART_AND_DESIGN</td>\n",
       "      <td>4.5</td>\n",
       "      <td>215644</td>\n",
       "      <td>25M</td>\n",
       "      <td>50,000,000+</td>\n",
       "      <td>Free</td>\n",
       "      <td>0</td>\n",
       "      <td>Teen</td>\n",
       "      <td>Art &amp; Design</td>\n",
       "      <td>June 8, 2018</td>\n",
       "    </tr>\n",
       "    <tr>\n",
       "      <th>4</th>\n",
       "      <td>Pixel Draw - Number Art Coloring Book</td>\n",
       "      <td>ART_AND_DESIGN</td>\n",
       "      <td>4.3</td>\n",
       "      <td>967</td>\n",
       "      <td>2.8M</td>\n",
       "      <td>100,000+</td>\n",
       "      <td>Free</td>\n",
       "      <td>0</td>\n",
       "      <td>Everyone</td>\n",
       "      <td>Art &amp; Design;Creativity</td>\n",
       "      <td>June 20, 2018</td>\n",
       "    </tr>\n",
       "    <tr>\n",
       "      <th>5</th>\n",
       "      <td>Paper flowers instructions</td>\n",
       "      <td>ART_AND_DESIGN</td>\n",
       "      <td>4.4</td>\n",
       "      <td>167</td>\n",
       "      <td>5.6M</td>\n",
       "      <td>50,000+</td>\n",
       "      <td>Free</td>\n",
       "      <td>0</td>\n",
       "      <td>Everyone</td>\n",
       "      <td>Art &amp; Design</td>\n",
       "      <td>March 26, 2017</td>\n",
       "    </tr>\n",
       "    <tr>\n",
       "      <th>6</th>\n",
       "      <td>Smoke Effect Photo Maker - Smoke Editor</td>\n",
       "      <td>ART_AND_DESIGN</td>\n",
       "      <td>3.8</td>\n",
       "      <td>178</td>\n",
       "      <td>19M</td>\n",
       "      <td>50,000+</td>\n",
       "      <td>Free</td>\n",
       "      <td>0</td>\n",
       "      <td>Everyone</td>\n",
       "      <td>Art &amp; Design</td>\n",
       "      <td>April 26, 2018</td>\n",
       "    </tr>\n",
       "    <tr>\n",
       "      <th>7</th>\n",
       "      <td>Infinite Painter</td>\n",
       "      <td>ART_AND_DESIGN</td>\n",
       "      <td>4.1</td>\n",
       "      <td>36815</td>\n",
       "      <td>29M</td>\n",
       "      <td>1,000,000+</td>\n",
       "      <td>Free</td>\n",
       "      <td>0</td>\n",
       "      <td>Everyone</td>\n",
       "      <td>Art &amp; Design</td>\n",
       "      <td>June 14, 2018</td>\n",
       "    </tr>\n",
       "    <tr>\n",
       "      <th>8</th>\n",
       "      <td>Garden Coloring Book</td>\n",
       "      <td>ART_AND_DESIGN</td>\n",
       "      <td>4.4</td>\n",
       "      <td>13791</td>\n",
       "      <td>33M</td>\n",
       "      <td>1,000,000+</td>\n",
       "      <td>Free</td>\n",
       "      <td>0</td>\n",
       "      <td>Everyone</td>\n",
       "      <td>Art &amp; Design</td>\n",
       "      <td>September 20, 2017</td>\n",
       "    </tr>\n",
       "    <tr>\n",
       "      <th>9</th>\n",
       "      <td>Kids Paint Free - Drawing Fun</td>\n",
       "      <td>ART_AND_DESIGN</td>\n",
       "      <td>4.7</td>\n",
       "      <td>121</td>\n",
       "      <td>3.1M</td>\n",
       "      <td>10,000+</td>\n",
       "      <td>Free</td>\n",
       "      <td>0</td>\n",
       "      <td>Everyone</td>\n",
       "      <td>Art &amp; Design;Creativity</td>\n",
       "      <td>July 3, 2018</td>\n",
       "    </tr>\n",
       "  </tbody>\n",
       "</table>\n",
       "</div>"
      ],
      "text/plain": [
       "                                                 App        Category  Rating  \\\n",
       "0     Photo Editor & Candy Camera & Grid & ScrapBook  ART_AND_DESIGN     4.1   \n",
       "1                                Coloring book moana  ART_AND_DESIGN     3.9   \n",
       "2  U Launcher Lite – FREE Live Cool Themes, Hide ...  ART_AND_DESIGN     4.7   \n",
       "3                              Sketch - Draw & Paint  ART_AND_DESIGN     4.5   \n",
       "4              Pixel Draw - Number Art Coloring Book  ART_AND_DESIGN     4.3   \n",
       "5                         Paper flowers instructions  ART_AND_DESIGN     4.4   \n",
       "6            Smoke Effect Photo Maker - Smoke Editor  ART_AND_DESIGN     3.8   \n",
       "7                                   Infinite Painter  ART_AND_DESIGN     4.1   \n",
       "8                               Garden Coloring Book  ART_AND_DESIGN     4.4   \n",
       "9                      Kids Paint Free - Drawing Fun  ART_AND_DESIGN     4.7   \n",
       "\n",
       "  Reviews  Size     Installs  Type Price Content Rating  \\\n",
       "0     159   19M      10,000+  Free     0       Everyone   \n",
       "1     967   14M     500,000+  Free     0       Everyone   \n",
       "2   87510  8.7M   5,000,000+  Free     0       Everyone   \n",
       "3  215644   25M  50,000,000+  Free     0           Teen   \n",
       "4     967  2.8M     100,000+  Free     0       Everyone   \n",
       "5     167  5.6M      50,000+  Free     0       Everyone   \n",
       "6     178   19M      50,000+  Free     0       Everyone   \n",
       "7   36815   29M   1,000,000+  Free     0       Everyone   \n",
       "8   13791   33M   1,000,000+  Free     0       Everyone   \n",
       "9     121  3.1M      10,000+  Free     0       Everyone   \n",
       "\n",
       "                      Genres        Last Updated  \n",
       "0               Art & Design     January 7, 2018  \n",
       "1  Art & Design;Pretend Play    January 15, 2018  \n",
       "2               Art & Design      August 1, 2018  \n",
       "3               Art & Design        June 8, 2018  \n",
       "4    Art & Design;Creativity       June 20, 2018  \n",
       "5               Art & Design      March 26, 2017  \n",
       "6               Art & Design      April 26, 2018  \n",
       "7               Art & Design       June 14, 2018  \n",
       "8               Art & Design  September 20, 2017  \n",
       "9    Art & Design;Creativity        July 3, 2018  "
      ]
     },
     "execution_count": 3,
     "metadata": {},
     "output_type": "execute_result"
    }
   ],
   "source": [
    "df=pd.read_csv('googleplaystore.csv')\n",
    "df.head(10)"
   ]
  },
  {
   "cell_type": "code",
   "execution_count": 4,
   "id": "7cebabb0",
   "metadata": {},
   "outputs": [
    {
     "name": "stdout",
     "output_type": "stream",
     "text": [
      "<class 'pandas.core.frame.DataFrame'>\n",
      "RangeIndex: 10841 entries, 0 to 10840\n",
      "Data columns (total 11 columns):\n",
      " #   Column          Non-Null Count  Dtype  \n",
      "---  ------          --------------  -----  \n",
      " 0   App             10841 non-null  object \n",
      " 1   Category        10841 non-null  object \n",
      " 2   Rating          9367 non-null   float64\n",
      " 3   Reviews         10841 non-null  object \n",
      " 4   Size            10841 non-null  object \n",
      " 5   Installs        10841 non-null  object \n",
      " 6   Type            10840 non-null  object \n",
      " 7   Price           10841 non-null  object \n",
      " 8   Content Rating  10840 non-null  object \n",
      " 9   Genres          10841 non-null  object \n",
      " 10  Last Updated    10841 non-null  object \n",
      "dtypes: float64(1), object(10)\n",
      "memory usage: 931.8+ KB\n"
     ]
    }
   ],
   "source": [
    "df.info()"
   ]
  },
  {
   "cell_type": "code",
   "execution_count": 5,
   "id": "cbab1069",
   "metadata": {},
   "outputs": [
    {
     "data": {
      "text/plain": [
       "App                  0\n",
       "Category             0\n",
       "Rating            1474\n",
       "Reviews              0\n",
       "Size                 0\n",
       "Installs             0\n",
       "Type                 1\n",
       "Price                0\n",
       "Content Rating       1\n",
       "Genres               0\n",
       "Last Updated         0\n",
       "dtype: int64"
      ]
     },
     "execution_count": 5,
     "metadata": {},
     "output_type": "execute_result"
    }
   ],
   "source": [
    "df.isnull().sum()"
   ]
  },
  {
   "cell_type": "code",
   "execution_count": 6,
   "id": "797765c3",
   "metadata": {},
   "outputs": [],
   "source": [
    "df.dropna(inplace=True)"
   ]
  },
  {
   "cell_type": "code",
   "execution_count": 7,
   "id": "77d3499a",
   "metadata": {},
   "outputs": [],
   "source": [
    "df.drop_duplicates(inplace=True)"
   ]
  },
  {
   "cell_type": "code",
   "execution_count": 8,
   "id": "5a3f07e6",
   "metadata": {},
   "outputs": [],
   "source": [
    "df['Reviews']=df['Reviews'].astype('int')"
   ]
  },
  {
   "cell_type": "code",
   "execution_count": 9,
   "id": "f2a97d26",
   "metadata": {},
   "outputs": [],
   "source": [
    "df['Price'] = pd.to_numeric(df['Price'], errors='coerce')"
   ]
  },
  {
   "cell_type": "code",
   "execution_count": 10,
   "id": "e99eedbf",
   "metadata": {},
   "outputs": [],
   "source": [
    "usd_to_inr = 83\n",
    "df['Price_INR'] = df['Price'] * usd_to_inr\n"
   ]
  },
  {
   "cell_type": "code",
   "execution_count": 11,
   "id": "a066db53",
   "metadata": {},
   "outputs": [],
   "source": [
    "df['Installs'] = df['Installs'].str.replace(',', '').str.replace('+', '')\n",
    "df['Installs'] = pd.to_numeric(df['Installs'], errors='coerce')"
   ]
  },
  {
   "cell_type": "code",
   "execution_count": 12,
   "id": "b55bb76d",
   "metadata": {},
   "outputs": [
    {
     "name": "stdout",
     "output_type": "stream",
     "text": [
      "<class 'pandas.core.frame.DataFrame'>\n",
      "Index: 8892 entries, 0 to 10840\n",
      "Data columns (total 12 columns):\n",
      " #   Column          Non-Null Count  Dtype  \n",
      "---  ------          --------------  -----  \n",
      " 0   App             8892 non-null   object \n",
      " 1   Category        8892 non-null   object \n",
      " 2   Rating          8892 non-null   float64\n",
      " 3   Reviews         8892 non-null   int64  \n",
      " 4   Size            8892 non-null   object \n",
      " 5   Installs        8892 non-null   int64  \n",
      " 6   Type            8892 non-null   object \n",
      " 7   Price           8279 non-null   float64\n",
      " 8   Content Rating  8892 non-null   object \n",
      " 9   Genres          8892 non-null   object \n",
      " 10  Last Updated    8892 non-null   object \n",
      " 11  Price_INR       8279 non-null   float64\n",
      "dtypes: float64(3), int64(2), object(7)\n",
      "memory usage: 903.1+ KB\n"
     ]
    }
   ],
   "source": [
    "df.info()"
   ]
  },
  {
   "cell_type": "code",
   "execution_count": 13,
   "id": "d64827e5",
   "metadata": {},
   "outputs": [],
   "source": [
    "df['Size'] = df['Size'].replace('Varies with device', np.nan)"
   ]
  },
  {
   "cell_type": "code",
   "execution_count": 14,
   "id": "a2f73a09",
   "metadata": {},
   "outputs": [],
   "source": [
    "\n",
    "\n",
    "def clean_size(size):\n",
    "    if isinstance(size, str):\n",
    "        size = size.strip().upper()  \n",
    "        if size.endswith('M'):\n",
    "            return float(size.replace('M', ''))\n",
    "        elif size.endswith('K'):\n",
    "            return float(size.replace('K', '')) / 1024 \n",
    "    return np.nan \n"
   ]
  },
  {
   "cell_type": "code",
   "execution_count": 15,
   "id": "674f4db7",
   "metadata": {},
   "outputs": [],
   "source": [
    "df['Size_MB'] = df['Size'].apply(clean_size)\n"
   ]
  },
  {
   "cell_type": "code",
   "execution_count": 16,
   "id": "7a525272",
   "metadata": {},
   "outputs": [
    {
     "name": "stdout",
     "output_type": "stream",
     "text": [
      "<class 'pandas.core.frame.DataFrame'>\n",
      "Index: 8892 entries, 0 to 10840\n",
      "Data columns (total 13 columns):\n",
      " #   Column          Non-Null Count  Dtype  \n",
      "---  ------          --------------  -----  \n",
      " 0   App             8892 non-null   object \n",
      " 1   Category        8892 non-null   object \n",
      " 2   Rating          8892 non-null   float64\n",
      " 3   Reviews         8892 non-null   int64  \n",
      " 4   Size            7424 non-null   object \n",
      " 5   Installs        8892 non-null   int64  \n",
      " 6   Type            8892 non-null   object \n",
      " 7   Price           8279 non-null   float64\n",
      " 8   Content Rating  8892 non-null   object \n",
      " 9   Genres          8892 non-null   object \n",
      " 10  Last Updated    8892 non-null   object \n",
      " 11  Price_INR       8279 non-null   float64\n",
      " 12  Size_MB         7424 non-null   float64\n",
      "dtypes: float64(4), int64(2), object(7)\n",
      "memory usage: 972.6+ KB\n"
     ]
    }
   ],
   "source": [
    "df.info()"
   ]
  },
  {
   "cell_type": "code",
   "execution_count": 17,
   "id": "36a34bb9",
   "metadata": {},
   "outputs": [
    {
     "data": {
      "text/plain": [
       "App                  0\n",
       "Category             0\n",
       "Rating               0\n",
       "Reviews              0\n",
       "Size              1468\n",
       "Installs             0\n",
       "Type                 0\n",
       "Price              613\n",
       "Content Rating       0\n",
       "Genres               0\n",
       "Last Updated         0\n",
       "Price_INR          613\n",
       "Size_MB           1468\n",
       "dtype: int64"
      ]
     },
     "execution_count": 17,
     "metadata": {},
     "output_type": "execute_result"
    }
   ],
   "source": [
    "df.isnull().sum()"
   ]
  },
  {
   "cell_type": "code",
   "execution_count": 18,
   "id": "b3fd7992",
   "metadata": {},
   "outputs": [
    {
     "data": {
      "text/html": [
       "<div>\n",
       "<style scoped>\n",
       "    .dataframe tbody tr th:only-of-type {\n",
       "        vertical-align: middle;\n",
       "    }\n",
       "\n",
       "    .dataframe tbody tr th {\n",
       "        vertical-align: top;\n",
       "    }\n",
       "\n",
       "    .dataframe thead th {\n",
       "        text-align: right;\n",
       "    }\n",
       "</style>\n",
       "<table border=\"1\" class=\"dataframe\">\n",
       "  <thead>\n",
       "    <tr style=\"text-align: right;\">\n",
       "      <th></th>\n",
       "      <th>Rating</th>\n",
       "      <th>Reviews</th>\n",
       "      <th>Installs</th>\n",
       "      <th>Price</th>\n",
       "      <th>Price_INR</th>\n",
       "      <th>Size_MB</th>\n",
       "    </tr>\n",
       "  </thead>\n",
       "  <tbody>\n",
       "    <tr>\n",
       "      <th>count</th>\n",
       "      <td>8892.000000</td>\n",
       "      <td>8.892000e+03</td>\n",
       "      <td>8.892000e+03</td>\n",
       "      <td>8279.0</td>\n",
       "      <td>8279.0</td>\n",
       "      <td>7424.000000</td>\n",
       "    </tr>\n",
       "    <tr>\n",
       "      <th>mean</th>\n",
       "      <td>4.187877</td>\n",
       "      <td>4.727764e+05</td>\n",
       "      <td>1.648965e+07</td>\n",
       "      <td>0.0</td>\n",
       "      <td>0.0</td>\n",
       "      <td>22.747273</td>\n",
       "    </tr>\n",
       "    <tr>\n",
       "      <th>std</th>\n",
       "      <td>0.522377</td>\n",
       "      <td>2.905052e+06</td>\n",
       "      <td>8.637600e+07</td>\n",
       "      <td>0.0</td>\n",
       "      <td>0.0</td>\n",
       "      <td>23.435118</td>\n",
       "    </tr>\n",
       "    <tr>\n",
       "      <th>min</th>\n",
       "      <td>1.000000</td>\n",
       "      <td>1.000000e+00</td>\n",
       "      <td>1.000000e+00</td>\n",
       "      <td>0.0</td>\n",
       "      <td>0.0</td>\n",
       "      <td>0.008301</td>\n",
       "    </tr>\n",
       "    <tr>\n",
       "      <th>25%</th>\n",
       "      <td>4.000000</td>\n",
       "      <td>1.640000e+02</td>\n",
       "      <td>1.000000e+04</td>\n",
       "      <td>0.0</td>\n",
       "      <td>0.0</td>\n",
       "      <td>5.100000</td>\n",
       "    </tr>\n",
       "    <tr>\n",
       "      <th>50%</th>\n",
       "      <td>4.300000</td>\n",
       "      <td>4.714500e+03</td>\n",
       "      <td>5.000000e+05</td>\n",
       "      <td>0.0</td>\n",
       "      <td>0.0</td>\n",
       "      <td>14.000000</td>\n",
       "    </tr>\n",
       "    <tr>\n",
       "      <th>75%</th>\n",
       "      <td>4.500000</td>\n",
       "      <td>7.126675e+04</td>\n",
       "      <td>5.000000e+06</td>\n",
       "      <td>0.0</td>\n",
       "      <td>0.0</td>\n",
       "      <td>33.000000</td>\n",
       "    </tr>\n",
       "    <tr>\n",
       "      <th>max</th>\n",
       "      <td>5.000000</td>\n",
       "      <td>7.815831e+07</td>\n",
       "      <td>1.000000e+09</td>\n",
       "      <td>0.0</td>\n",
       "      <td>0.0</td>\n",
       "      <td>100.000000</td>\n",
       "    </tr>\n",
       "  </tbody>\n",
       "</table>\n",
       "</div>"
      ],
      "text/plain": [
       "            Rating       Reviews      Installs   Price  Price_INR      Size_MB\n",
       "count  8892.000000  8.892000e+03  8.892000e+03  8279.0     8279.0  7424.000000\n",
       "mean      4.187877  4.727764e+05  1.648965e+07     0.0        0.0    22.747273\n",
       "std       0.522377  2.905052e+06  8.637600e+07     0.0        0.0    23.435118\n",
       "min       1.000000  1.000000e+00  1.000000e+00     0.0        0.0     0.008301\n",
       "25%       4.000000  1.640000e+02  1.000000e+04     0.0        0.0     5.100000\n",
       "50%       4.300000  4.714500e+03  5.000000e+05     0.0        0.0    14.000000\n",
       "75%       4.500000  7.126675e+04  5.000000e+06     0.0        0.0    33.000000\n",
       "max       5.000000  7.815831e+07  1.000000e+09     0.0        0.0   100.000000"
      ]
     },
     "execution_count": 18,
     "metadata": {},
     "output_type": "execute_result"
    }
   ],
   "source": [
    "df.describe()"
   ]
  },
  {
   "cell_type": "code",
   "execution_count": 19,
   "id": "acd05149",
   "metadata": {},
   "outputs": [
    {
     "data": {
      "text/plain": [
       "Category\n",
       "EVENTS                 4.435556\n",
       "EDUCATION              4.375969\n",
       "ART_AND_DESIGN         4.358065\n",
       "BOOKS_AND_REFERENCE    4.347458\n",
       "PERSONALIZATION        4.333871\n",
       "PARENTING              4.300000\n",
       "GAME                   4.281285\n",
       "BEAUTY                 4.278571\n",
       "HEALTH_AND_FITNESS     4.261450\n",
       "SOCIAL                 4.254918\n",
       "SHOPPING               4.251485\n",
       "WEATHER                4.244000\n",
       "SPORTS                 4.225175\n",
       "PRODUCTIVITY           4.201796\n",
       "FAMILY                 4.191153\n",
       "AUTO_AND_VEHICLES      4.190411\n",
       "PHOTOGRAPHY            4.182895\n",
       "MEDICAL                4.182450\n",
       "LIBRARIES_AND_DEMO     4.178462\n",
       "HOUSE_AND_HOME         4.164706\n",
       "FOOD_AND_DRINK         4.164151\n",
       "COMICS                 4.155172\n",
       "COMMUNICATION          4.151466\n",
       "ENTERTAINMENT          4.136036\n",
       "NEWS_AND_MAGAZINES     4.128505\n",
       "FINANCE                4.127445\n",
       "BUSINESS               4.102593\n",
       "LIFESTYLE              4.096066\n",
       "TRAVEL_AND_LOCAL       4.094146\n",
       "VIDEO_PLAYERS          4.063750\n",
       "MAPS_AND_NAVIGATION    4.051613\n",
       "TOOLS                  4.047411\n",
       "DATING                 3.971698\n",
       "Name: Rating, dtype: float64"
      ]
     },
     "execution_count": 19,
     "metadata": {},
     "output_type": "execute_result"
    }
   ],
   "source": [
    "df.groupby('Category')['Rating'].mean().sort_values(ascending=False)"
   ]
  },
  {
   "cell_type": "code",
   "execution_count": 20,
   "id": "d43388c7",
   "metadata": {},
   "outputs": [
    {
     "data": {
      "text/plain": [
       "Category\n",
       "GAME                   31543862717\n",
       "COMMUNICATION          24152241530\n",
       "SOCIAL                 12513841475\n",
       "PRODUCTIVITY           12463070180\n",
       "TOOLS                  11450724500\n",
       "FAMILY                 10041130590\n",
       "PHOTOGRAPHY             9721243130\n",
       "TRAVEL_AND_LOCAL        6361859300\n",
       "VIDEO_PLAYERS           6221897200\n",
       "NEWS_AND_MAGAZINES      5393110650\n",
       "SHOPPING                2573331540\n",
       "ENTERTAINMENT           2455660000\n",
       "PERSONALIZATION         2074352930\n",
       "BOOKS_AND_REFERENCE     1916291655\n",
       "SPORTS                  1528531465\n",
       "HEALTH_AND_FITNESS      1361006220\n",
       "BUSINESS                 863518120\n",
       "FINANCE                  770312400\n",
       "MAPS_AND_NAVIGATION      724267560\n",
       "LIFESTYLE                534741120\n",
       "EDUCATION                533852000\n",
       "WEATHER                  426096500\n",
       "FOOD_AND_DRINK           257777750\n",
       "DATING                   206522410\n",
       "HOUSE_AND_HOME           125082000\n",
       "ART_AND_DESIGN           124233100\n",
       "LIBRARIES_AND_DEMO        62083000\n",
       "COMICS                    56036100\n",
       "AUTO_AND_VEHICLES         53129800\n",
       "MEDICAL                   42162676\n",
       "PARENTING                 31116110\n",
       "BEAUTY                    26916200\n",
       "EVENTS                    15949410\n",
       "Name: Installs, dtype: int64"
      ]
     },
     "execution_count": 20,
     "metadata": {},
     "output_type": "execute_result"
    }
   ],
   "source": [
    "df.groupby('Category')['Installs'].sum().sort_values(ascending=False)"
   ]
  },
  {
   "cell_type": "code",
   "execution_count": 24,
   "id": "41431cc9",
   "metadata": {},
   "outputs": [
    {
     "data": {
      "text/plain": [
       "Content Rating\n",
       "Everyone           7095\n",
       "Teen               1022\n",
       "Mature 17+          411\n",
       "Everyone 10+        360\n",
       "Adults only 18+       3\n",
       "Unrated               1\n",
       "Name: count, dtype: int64"
      ]
     },
     "execution_count": 24,
     "metadata": {},
     "output_type": "execute_result"
    }
   ],
   "source": [
    "\n",
    "df['Content Rating'].value_counts()\n"
   ]
  },
  {
   "cell_type": "code",
   "execution_count": 25,
   "id": "5e04327f",
   "metadata": {},
   "outputs": [
    {
     "data": {
      "text/plain": [
       "Type\n",
       "Free    8279\n",
       "Paid     613\n",
       "Name: count, dtype: int64"
      ]
     },
     "execution_count": 25,
     "metadata": {},
     "output_type": "execute_result"
    }
   ],
   "source": [
    "df['Type'].value_counts()"
   ]
  },
  {
   "cell_type": "code",
   "execution_count": 28,
   "id": "a9e20103",
   "metadata": {},
   "outputs": [
    {
     "data": {
      "image/png": "[encoded data removed]",
      "text/plain": [
       "<Figure size 800x500 with 1 Axes>"
      ]
     },
     "metadata": {},
     "output_type": "display_data"
    }
   ],
   "source": [
    "plt.figure(figsize=(8, 5))\n",
    "sns.histplot(df['Rating'], bins=40, kde=True, color='skyblue')\n",
    "plt.title('Distribution of App Ratings')\n",
    "plt.xlabel('Rating')\n",
    "plt.ylabel('Number of Apps')\n",
    "plt.show()"
   ]
  },
  {
   "cell_type": "code",
   "execution_count": 29,
   "id": "9b883cb4",
   "metadata": {},
   "outputs": [
    {
     "data": {
      "image/png": "[encoded data removed]",
      "text/plain": [
       "<Figure size 1200x600 with 1 Axes>"
      ]
     },
     "metadata": {},
     "output_type": "display_data"
    }
   ],
   "source": [
    "plt.figure(figsize=(12, 6))\n",
    "df['Category'].value_counts().plot(kind='bar', color='coral')\n",
    "plt.title('Number of Apps per Category')\n",
    "plt.xlabel('Category')\n",
    "plt.ylabel('Number of Apps')\n",
    "plt.xticks(rotation=45, ha='right')\n",
    "plt.tight_layout()\n",
    "plt.show()"
   ]
  },
  {
   "cell_type": "code",
   "execution_count": null,
   "id": "e5361670",
   "metadata": {},
   "outputs": [],
   "source": [
    "plt.figure(figsize=(10, 6))\n",
    "plt.bar(rating.index, rating_counts.values, color='skyblue')\n",
    "plt.xlabel('Rating')\n",
    "plt.ylabel('Number of Apps')\n",
    "plt.title('Distribution of App Ratings')\n",
    "plt.grid(axis='y', linestyle='--', alpha=0.7)\n",
    "plt.xticks(rating_counts.index)  # Make sure all ratings are shown\n",
    "plt.show()"
   ]
  }
 ],
 "metadata": {
  "kernelspec": {
   "display_name": "Python 3",
   "language": "python",
   "name": "python3"
  },
  "language_info": {
   "codemirror_mode": {
    "name": "ipython",
    "version": 3
   },
   "file_extension": ".py",
   "mimetype": "text/x-python",
   "name": "python",
   "nbconvert_exporter": "python",
   "pygments_lexer": "ipython3",
   "version": "3.11.9"
  }
 },
 "nbformat": 4,
 "nbformat_minor": 5
}
